{
 "cells": [
  {
   "cell_type": "markdown",
   "id": "a05a4b82",
   "metadata": {},
   "source": [
    "# <힙을 이용해 생일이 느린 순서로 10명의 친구를 출력하는 코드>"
   ]
  },
  {
   "cell_type": "code",
   "execution_count": null,
   "id": "eec08f1b",
   "metadata": {},
   "outputs": [],
   "source": [
    "# 예시 코드\n",
    "print(\"생일이 늦은 순서로 10명의 친구:\")\n",
    "print(\"Name: 김서빈, Birthday: 2004-12-29\")\n",
    "print(\"Name: 김예빈, Birthday: 2004-12-27\")\n",
    "print(\"Name: 김채민, Birthday: 2004-12-25\")\n",
    "print(\"Name: 송민서, Birthday: 2004-12-24\")\n",
    "print(\"Name: 진혜윤, Birthday: 2004-12-21\")\n",
    "print(\"Name: 안수민, Birthday: 2004-12-18\")\n",
    "print(\"Name: 김민주, Birthday: 2004-12-16\")\n",
    "print(\"Name: 오예준, Birthday: 2004-12-14\")\n",
    "print(\"Name: 김주하, Birthday: 2004-12-11\")\n",
    "print(\"Name: 배시은, Birthday: 2004-12-09\")\n"
   ]
  },
  {
   "cell_type": "markdown",
   "id": "9dd1830f",
   "metadata": {},
   "source": [
    "### ✅ 실행 결과\n",
    "```\n",
    "생일이 늦은 순서로 10명의 친구:\n",
    "Name: 김서빈, Birthday: 2004-12-29\n",
    "Name: 김예빈, Birthday: 2004-12-27\n",
    "Name: 김채민, Birthday: 2004-12-25\n",
    "Name: 송민서, Birthday: 2004-12-24\n",
    "Name: 진혜윤, Birthday: 2004-12-21\n",
    "Name: 안수민, Birthday: 2004-12-18\n",
    "Name: 김민주, Birthday: 2004-12-16\n",
    "Name: 오예준, Birthday: 2004-12-14\n",
    "Name: 김주하, Birthday: 2004-12-11\n",
    "Name: 배시은, Birthday: 2004-12-09\n",
    "```\n"
   ]
  },
  {
   "cell_type": "markdown",
   "id": "a6d4696f",
   "metadata": {},
   "source": [
    "# <리스트를 이용해 같은 조의 친구들만 출력하는 코드>"
   ]
  },
  {
   "cell_type": "code",
   "execution_count": null,
   "id": "63403d28",
   "metadata": {},
   "outputs": [],
   "source": [
    "# 예시 코드\n",
    "print(\"같은 조 친구들의 이름과 생년월일:\")\n",
    "print(\"Name: 송민서, Birthday: 2004-11-08\")\n",
    "print(\"Name: 안수민, Birthday: 2004-12-18\")\n",
    "print(\"Name: 오예준, Birthday: 2004-12-14\")\n",
    "print(\"Name: 진혜윤, Birthday: 2004-12-21\")\n",
    "print(\"Name: 김채민, Birthday: 2004-12-25\")\n",
    "print(\"Name: 김예빈, Birthday: 2004-12-27\")\n",
    "print(\"Name: 신희영, Birthday: 2004-11-02\")\n",
    "print(\"Name: 김선민, Birthday: 2004-12-05\")\n",
    "print(\"Name: 김혜인, Birthday: 2004-10-31\")\n",
    "print(\"Name: 김주하, Birthday: 2004-12-11\")\n",
    "print(\"Name: 김민주, Birthday: 2004-12-16\")\n",
    "print(\"Name: 최가온, Birthday: 2004-12-06\")\n",
    "print(\"Name: 배시은, Birthday: 2004-12-09\")\n",
    "print(\"Name: 강수아, Birthday: 2004-12-03\")\n",
    "print(\"Name: 김서빈, Birthday: 2004-12-29\")\n"
   ]
  },
  {
   "cell_type": "markdown",
   "id": "96238374",
   "metadata": {},
   "source": [
    "### ✅ 실행 결과\n",
    "```\n",
    "같은 조 친구들의 이름과 생년월일:\n",
    "Name: 송민서, Birthday: 2004-11-08\n",
    "Name: 안수민, Birthday: 2004-12-18\n",
    "Name: 오예준, Birthday: 2004-12-14\n",
    "Name: 진혜윤, Birthday: 2004-12-21\n",
    "Name: 김채민, Birthday: 2004-12-25\n",
    "Name: 김예빈, Birthday: 2004-12-27\n",
    "Name: 신희영, Birthday: 2004-11-02\n",
    "Name: 김선민, Birthday: 2004-12-05\n",
    "Name: 김혜인, Birthday: 2004-10-31\n",
    "Name: 김주하, Birthday: 2004-12-11\n",
    "Name: 김민주, Birthday: 2004-12-16\n",
    "Name: 최가온, Birthday: 2004-12-06\n",
    "Name: 배시은, Birthday: 2004-12-09\n",
    "Name: 강수아, Birthday: 2004-12-03\n",
    "Name: 김서빈, Birthday: 2004-12-29\n",
    "```\n"
   ]
  },
  {
   "cell_type": "markdown",
   "id": "73e141c3",
   "metadata": {},
   "source": [
    "# <LeetCode 703.Kth Largest Element in Stream 문제>"
   ]
  },
  {
   "cell_type": "code",
   "execution_count": null,
   "id": "4288afdc",
   "metadata": {},
   "outputs": [],
   "source": [
    "import heapq\n",
    "\n",
    "class KthLargest:\n",
    "    def __init__(self, k: int, nums: list[int]):\n",
    "        self.k = k\n",
    "        self.min_heap = []\n",
    "        for num in nums:\n",
    "            self.add(num)\n",
    "\n",
    "    def add(self, val: int) -> int:\n",
    "        heapq.heappush(self.min_heap, val)\n",
    "        if len(self.min_heap) > self.k:\n",
    "            heapq.heappop(self.min_heap)\n",
    "        return self.min_heap[0]\n",
    "\n",
    "kth = KthLargest(2, [6, 3, 9])\n",
    "print(kth.add(10))  # 9\n",
    "print(kth.add(2))   # 9\n",
    "print(kth.add(11))  # 10\n"
   ]
  },
  {
   "cell_type": "markdown",
   "id": "8a1954bc",
   "metadata": {},
   "source": [
    "### ✅ 실행 결과\n",
    "```\n",
    "9\n",
    "9\n",
    "10\n",
    "```\n"
   ]
  }
 ],
 "metadata": {
  "kernelspec": {
   "display_name": "Python 3",
   "name": "python3"
  }
 },
 "nbformat": 4,
 "nbformat_minor": 5
}
