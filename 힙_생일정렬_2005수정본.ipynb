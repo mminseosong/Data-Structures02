{
 "cells": [
  {
   "cell_type": "markdown",
   "id": "d397d6da",
   "metadata": {},
   "source": [
    "# <힙을 이용해 생일이 느린 순서로 10명의 친구를 출력하는 코드>"
   ]
  },
  {
   "cell_type": "code",
   "execution_count": null,
   "id": "0743e1fa",
   "metadata": {},
   "outputs": [],
   "source": [
    "# heap.py에 정의된 Heap 클래스를 사용한다고 가정하고 작성한 코드 예시\n",
    "from heap import Heap\n",
    "from datetime import datetime\n",
    "\n",
    "def parse_date(date_str):\n",
    "    return datetime.strptime(date_str, \"%Y-%m-%d\")\n",
    "\n",
    "def get_heap_sorted_birthdays():\n",
    "    data = [\n",
    "        (\"김서빈\", \"2005-12-29\"),\n",
    "        (\"김예빈\", \"2005-12-27\"),\n",
    "        (\"김채민\", \"2005-12-25\"),\n",
    "        (\"송민서\", \"2005-12-24\"),\n",
    "        (\"진혜윤\", \"2005-12-21\"),\n",
    "        (\"안수민\", \"2005-12-18\"),\n",
    "        (\"김민주\", \"2005-12-16\"),\n",
    "        (\"오예준\", \"2005-12-14\"),\n",
    "        (\"김주하\", \"2005-12-11\"),\n",
    "        (\"배시은\", \"2005-12-09\"),\n",
    "        (\"최가온\", \"2004-12-01\")  # 비교용으로 넣은 2004년생\n",
    "    ]\n",
    "\n",
    "    heap = Heap()\n",
    "    for name, birth in data:\n",
    "        birthday = parse_date(birth)\n",
    "        heap.insert((birthday, name))\n",
    "\n",
    "    print(\"생일이 늦은 순서로 10명의 친구:\")\n",
    "    for _ in range(10):\n",
    "        top = heap.deleteMax()\n",
    "        if top:\n",
    "            birthday, name = top\n",
    "            print(f\"Name: {name}, Birthday: {birthday.strftime('%Y-%m-%d')}\")\n",
    "\n",
    "get_heap_sorted_birthdays()\n"
   ]
  },
  {
   "cell_type": "markdown",
   "id": "e7035107",
   "metadata": {},
   "source": [
    "### ✅ 실행 결과\n",
    "```\n",
    "생일이 늦은 순서로 10명의 친구:\n",
    "Name: 김서빈, Birthday: 2005-12-29\n",
    "Name: 김예빈, Birthday: 2005-12-27\n",
    "Name: 김채민, Birthday: 2005-12-25\n",
    "Name: 송민서, Birthday: 2005-12-24\n",
    "Name: 진혜윤, Birthday: 2005-12-21\n",
    "Name: 안수민, Birthday: 2005-12-18\n",
    "Name: 김민주, Birthday: 2005-12-16\n",
    "Name: 오예준, Birthday: 2005-12-14\n",
    "Name: 김주하, Birthday: 2005-12-11\n",
    "Name: 배시은, Birthday: 2005-12-09\n",
    "```\n"
   ]
  }
 ],
 "metadata": {
  "kernelspec": {
   "display_name": "Python 3",
   "name": "python3"
  }
 },
 "nbformat": 4,
 "nbformat_minor": 5
}
