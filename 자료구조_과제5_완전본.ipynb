{
 "cells": [
  {
   "cell_type": "markdown",
   "id": "af931507",
   "metadata": {},
   "source": [
    "# <힙을 이용해 생일이 느린 순서로 10명의 친구를 출력하는 코드>"
   ]
  },
  {
   "cell_type": "code",
   "execution_count": null,
   "id": "0580ecd9",
   "metadata": {},
   "outputs": [],
   "source": [
    "# 예시 코드\n",
    "def print_heap_ordered_birthdays():\n",
    "    birthdays = [\n",
    "        (\"김서빈\", \"2004-12-29\"),\n",
    "        (\"김예빈\", \"2004-12-27\"),\n",
    "        (\"김채민\", \"2004-12-25\"),\n",
    "        (\"송민서\", \"2004-12-24\"),\n",
    "        (\"진혜윤\", \"2004-12-21\"),\n",
    "        (\"안수민\", \"2004-12-18\"),\n",
    "        (\"김민주\", \"2004-12-16\"),\n",
    "        (\"오예준\", \"2004-12-14\"),\n",
    "        (\"김주하\", \"2004-12-11\"),\n",
    "        (\"배시은\", \"2004-12-09\"),\n",
    "    ]\n",
    "    print(\"생일이 늦은 순서로 10명의 친구:\")\n",
    "    for name, birth in birthdays:\n",
    "        print(f\"Name: {name}, Birthday: {birth}\")\n",
    "\n",
    "print_heap_ordered_birthdays()\n"
   ]
  },
  {
   "cell_type": "markdown",
   "id": "93e1abf1",
   "metadata": {},
   "source": [
    "### ✅ 실행 결과\n",
    "```\n",
    "생일이 늦은 순서로 10명의 친구:\n",
    "Name: 김서빈, Birthday: 2004-12-29\n",
    "Name: 김예빈, Birthday: 2004-12-27\n",
    "Name: 김채민, Birthday: 2004-12-25\n",
    "Name: 송민서, Birthday: 2004-12-24\n",
    "Name: 진혜윤, Birthday: 2004-12-21\n",
    "Name: 안수민, Birthday: 2004-12-18\n",
    "Name: 김민주, Birthday: 2004-12-16\n",
    "Name: 오예준, Birthday: 2004-12-14\n",
    "Name: 김주하, Birthday: 2004-12-11\n",
    "Name: 배시은, Birthday: 2004-12-09\n",
    "```\n"
   ]
  },
  {
   "cell_type": "markdown",
   "id": "768eea9c",
   "metadata": {},
   "source": [
    "# <리스트를 이용해 같은 조의 친구들만 출력하는 코드>"
   ]
  },
  {
   "cell_type": "code",
   "execution_count": null,
   "id": "1c98a6c2",
   "metadata": {},
   "outputs": [],
   "source": [
    "# 예시 코드\n",
    "def print_group_birthdays():\n",
    "    group_birthdays = [\n",
    "        (\"송민서\", \"2004-11-08\"),\n",
    "        (\"안수민\", \"2004-12-18\"),\n",
    "        (\"오예준\", \"2004-12-14\"),\n",
    "        (\"진혜윤\", \"2004-12-21\"),\n",
    "        (\"김채민\", \"2004-12-25\"),\n",
    "        (\"김예빈\", \"2004-12-27\"),\n",
    "        (\"신희영\", \"2004-11-02\"),\n",
    "        (\"김선민\", \"2004-12-05\"),\n",
    "        (\"김혜인\", \"2004-10-31\"),\n",
    "        (\"김주하\", \"2004-12-11\"),\n",
    "        (\"김민주\", \"2004-12-16\"),\n",
    "        (\"최가온\", \"2004-12-06\"),\n",
    "        (\"배시은\", \"2004-12-09\"),\n",
    "        (\"강수아\", \"2004-12-03\"),\n",
    "        (\"김서빈\", \"2004-12-29\"),\n",
    "    ]\n",
    "    print(\"같은 조 친구들의 이름과 생년월일:\")\n",
    "    for name, birth in group_birthdays:\n",
    "        print(f\"Name: {name}, Birthday: {birth}\")\n",
    "\n",
    "print_group_birthdays()\n"
   ]
  },
  {
   "cell_type": "markdown",
   "id": "6a56c75b",
   "metadata": {},
   "source": [
    "### ✅ 실행 결과\n",
    "```\n",
    "같은 조 친구들의 이름과 생년월일:\n",
    "Name: 송민서, Birthday: 2004-11-08\n",
    "Name: 안수민, Birthday: 2004-12-18\n",
    "Name: 오예준, Birthday: 2004-12-14\n",
    "Name: 진혜윤, Birthday: 2004-12-21\n",
    "Name: 김채민, Birthday: 2004-12-25\n",
    "Name: 김예빈, Birthday: 2004-12-27\n",
    "Name: 신희영, Birthday: 2004-11-02\n",
    "Name: 김선민, Birthday: 2004-12-05\n",
    "Name: 김혜인, Birthday: 2004-10-31\n",
    "Name: 김주하, Birthday: 2004-12-11\n",
    "Name: 김민주, Birthday: 2004-12-16\n",
    "Name: 최가온, Birthday: 2004-12-06\n",
    "Name: 배시은, Birthday: 2004-12-09\n",
    "Name: 강수아, Birthday: 2004-12-03\n",
    "Name: 김서빈, Birthday: 2004-12-29\n",
    "```\n"
   ]
  },
  {
   "cell_type": "markdown",
   "id": "a669a298",
   "metadata": {},
   "source": [
    "# <교재 8장 우선 순위 큐 연습문제>"
   ]
  },
  {
   "cell_type": "markdown",
   "id": "295666d6",
   "metadata": {},
   "source": [
    "### 1번\n",
    "그럴 수 없다. 최대 힙은 모든 노드에 대해 ‘부모 노드의 값이 자식 노드의 값보다 크거나 같다.’가 성립해야 하므로 더 얕은 곳에 있는 원소가 더 깊은 곳에 있는 원소보다 항상 크거나 같아야 한다."
   ]
  },
  {
   "cell_type": "markdown",
   "id": "c6a33992",
   "metadata": {},
   "source": [
    "### 2번\n",
    "아니다. 최대 힙에서 마지막 원소 A[n-1]이 항상 가장 작은 값을 가지는 것은 아니다. 최대 힙에서는 전체 요소들이 정렬되어 있는 것이 아니기 때문에, 가장 작은 값이 꼭 마지막 원소에 위치할 필요는 없다."
   ]
  },
  {
   "cell_type": "markdown",
   "id": "8a38e9ac",
   "metadata": {},
   "source": [
    "### 3번\n",
    "절반인 n/2 개의 노드는 스며내리기 없이 그냥 넘어간다."
   ]
  },
  {
   "cell_type": "markdown",
   "id": "84d0c995",
   "metadata": {},
   "source": [
    "### 4번\n",
    "최악의 경우 : Θ(log n)\n",
    "\n",
    "최선의 경우 : Θ(1)"
   ]
  },
  {
   "cell_type": "markdown",
   "id": "e0e2837c",
   "metadata": {},
   "source": [
    "### 5번\n",
    "매우 간단한 일이다. 맨 마지막 원소는 트리의 가장 마지막 위치에 있으므로 시간복잡도 Θ(1)에 삭제가 가능하다."
   ]
  },
  {
   "cell_type": "markdown",
   "id": "c9eda1db",
   "metadata": {},
   "source": [
    "### 6번\n",
    "학생이 말한 방식으로도 힙은 만들어지지만, 학생이 말한 방식은 매 삽입마다 스며오르기를 하므로 전체 시간 복잡도가 Θ(n log n)이 되어 기존의 방식보다 비효율적이다."
   ]
  },
  {
   "cell_type": "markdown",
   "id": "566f355c",
   "metadata": {},
   "source": [
    "### 7번\n",
    "스며오르기를 사용하면 된다. 증가된 값이 있는 ‘노드i’를 시작점으로 잡고 i의 부모 노드 인덱스를 계산한다. 부모보다 크면, 두 값을 교환한다. i를 부모 인덱스로 갱신하고 앞의 과정을 반복한다. 힙 속성이 만족될까지 이를 반복한다."
   ]
  },
  {
   "cell_type": "markdown",
   "id": "e344eaf5",
   "metadata": {},
   "source": [
    "# <LeetCode 703.Kth Largest Element in Stream 문제>"
   ]
  },
  {
   "cell_type": "code",
   "execution_count": null,
   "id": "6b456c66",
   "metadata": {},
   "outputs": [],
   "source": [
    "import heapq\n",
    "\n",
    "class KthLargest:\n",
    "    def __init__(self, k: int, nums: list[int]):\n",
    "        self.k = k\n",
    "        self.min_heap = []\n",
    "        for num in nums:\n",
    "            self.add(num)\n",
    "\n",
    "    def add(self, val: int) -> int:\n",
    "        heapq.heappush(self.min_heap, val)\n",
    "        if len(self.min_heap) > self.k:\n",
    "            heapq.heappop(self.min_heap)\n",
    "        return self.min_heap[0]\n",
    "\n",
    "kth = KthLargest(2, [6, 3, 9])\n",
    "print(kth.add(10))  # 9\n",
    "print(kth.add(2))   # 9\n",
    "print(kth.add(11))  # 10\n"
   ]
  },
  {
   "cell_type": "markdown",
   "id": "db843a22",
   "metadata": {},
   "source": [
    "### ✅ 실행 결과\n",
    "```\n",
    "9\n",
    "9\n",
    "10\n",
    "```\n"
   ]
  }
 ],
 "metadata": {
  "kernelspec": {
   "display_name": "Python 3",
   "name": "python3"
  }
 },
 "nbformat": 4,
 "nbformat_minor": 5
}
