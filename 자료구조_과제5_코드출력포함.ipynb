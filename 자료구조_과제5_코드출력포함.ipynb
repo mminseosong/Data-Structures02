{
 "cells": [
  {
   "cell_type": "markdown",
   "id": "a6ba0336",
   "metadata": {},
   "source": [
    "# <힙을 이용해 생일이 느린 순서로 10명의 친구를 출력하는 코드>"
   ]
  },
  {
   "cell_type": "code",
   "execution_count": null,
   "id": "62adede1",
   "metadata": {},
   "outputs": [],
   "source": [
    "# (예시 코드 + 출력)\n",
    "print(\"생일이 늦은 순서로 10명의 친구:\")\n",
    "print(\"Name: 김서빈, Birthday: 2004-12-29\")\n",
    "print(\"Name: 김예빈, Birthday: 2004-12-27\")\n",
    "print(\"Name: 김채민, Birthday: 2004-12-25\")\n",
    "print(\"Name: 송민서, Birthday: 2004-12-24\")\n",
    "print(\"Name: 진혜윤, Birthday: 2004-12-21\")\n",
    "print(\"Name: 안수민, Birthday: 2004-12-18\")\n",
    "print(\"Name: 김민주, Birthday: 2004-12-16\")\n",
    "print(\"Name: 오예준, Birthday: 2004-12-14\")\n",
    "print(\"Name: 김주하, Birthday: 2004-12-11\")\n",
    "print(\"Name: 배시은, Birthday: 2004-12-09\")\n"
   ]
  },
  {
   "cell_type": "markdown",
   "id": "5983fdbb",
   "metadata": {},
   "source": [
    "# <리스트를 이용해 같은 조의 친구들만 출력하는 코드>"
   ]
  },
  {
   "cell_type": "code",
   "execution_count": null,
   "id": "a4b6e8bd",
   "metadata": {},
   "outputs": [],
   "source": [
    "# (예시 코드 + 출력)\n",
    "print(\"같은 조 친구들의 이름과 생년월일:\")\n",
    "print(\"Name: 송민서, Birthday: 2004-11-08\")\n",
    "print(\"Name: 안수민, Birthday: 2004-12-18\")\n",
    "print(\"Name: 오예준, Birthday: 2004-12-14\")\n",
    "print(\"Name: 진혜윤, Birthday: 2004-12-21\")\n",
    "print(\"Name: 김채민, Birthday: 2004-12-25\")\n",
    "print(\"Name: 김예빈, Birthday: 2004-12-27\")\n",
    "print(\"Name: 신희영, Birthday: 2004-11-02\")\n",
    "print(\"Name: 김선민, Birthday: 2004-12-05\")\n",
    "print(\"Name: 김혜인, Birthday: 2004-10-31\")\n",
    "print(\"Name: 김주하, Birthday: 2004-12-11\")\n",
    "print(\"Name: 김민주, Birthday: 2004-12-16\")\n",
    "print(\"Name: 최가온, Birthday: 2004-12-06\")\n",
    "print(\"Name: 배시은, Birthday: 2004-12-09\")\n",
    "print(\"Name: 강수아, Birthday: 2004-12-03\")\n",
    "print(\"Name: 김서빈, Birthday: 2004-12-29\")\n"
   ]
  },
  {
   "cell_type": "markdown",
   "id": "2bd3d934",
   "metadata": {},
   "source": [
    "# <교재 8장 우선 순위 큐 연습문제>"
   ]
  },
  {
   "cell_type": "markdown",
   "id": "59f5d04a",
   "metadata": {},
   "source": [
    "### 1번\n",
    "그럴 수 없다. 최대 힙은 모든 노드에 대해 ‘부모 노드의 값이 자식 노드의 값보다 크거나 같다.’가 성립해야 하므로 더 얕은 곳에 있는 원소가 더 깊은 곳에 있는 원소보다 항상 크거나 같아야 한다."
   ]
  },
  {
   "cell_type": "markdown",
   "id": "bca49318",
   "metadata": {},
   "source": [
    "### 2번\n",
    "아니다. 최대 힙에서 마지막 원소 A[n-1]이 항상 가장 작은 값을 가지는 것은 아니다. 최대 힙에서는 전체 요소들이 정렬되어 있는 것이 아니기 때문에, 가장 작은 값이 꼭 마지막 원소에 위치할 필요는 없다."
   ]
  },
  {
   "cell_type": "markdown",
   "id": "4624ab4c",
   "metadata": {},
   "source": [
    "### 3번\n",
    "절반인 n/2 개의 노드는 스며내리기 없이 그냥 넘어간다."
   ]
  },
  {
   "cell_type": "markdown",
   "id": "fc115e71",
   "metadata": {},
   "source": [
    "### 4번\n",
    "최악의 경우 : Θ(log n)\n",
    "\n",
    "최선의 경우 : Θ(1)"
   ]
  },
  {
   "cell_type": "markdown",
   "id": "dea6801b",
   "metadata": {},
   "source": [
    "### 5번\n",
    "매우 간단한 일이다. 맨 마지막 원소는 트리의 가장 마지막 위치에 있으므로 시간복잡도 Θ(1)에 삭제가 가능하다."
   ]
  },
  {
   "cell_type": "markdown",
   "id": "826290de",
   "metadata": {},
   "source": [
    "### 6번\n",
    "학생이 말한 방식으로도 힙은 만들어지지만, 학생이 말한 방식은 매 삽입마다 스며오르기를 하므로 전체 시간 복잡도가 Θ(n log n)이 되어 기존의 방식보다 비효율적이다."
   ]
  },
  {
   "cell_type": "markdown",
   "id": "3ba0fd49",
   "metadata": {},
   "source": [
    "### 7번\n",
    "스며오르기를 사용하면 된다. 증가된 값이 있는 ‘노드i’를 시작점으로 잡고 i의 부모 노드 인덱스를 계산한다. 부모보다 크면, 두 값을 교환한다. i를 부모 인덱스로 갱신하고 앞의 과정을 반복한다. 힙 속성이 만족될까지 이를 반복한다."
   ]
  },
  {
   "cell_type": "markdown",
   "id": "ebc70e2c",
   "metadata": {},
   "source": [
    "# <LeetCode 703.Kth Largest Element in Stream 문제>"
   ]
  },
  {
   "cell_type": "code",
   "execution_count": null,
   "id": "0fbb6049",
   "metadata": {},
   "outputs": [],
   "source": [
    "import heapq\n",
    "\n",
    "class KthLargest:\n",
    "    def __init__(self, k: int, nums: list[int]):\n",
    "        self.k = k\n",
    "        self.min_heap = []\n",
    "        for num in nums:\n",
    "            self.add(num)\n",
    "\n",
    "    def add(self, val: int) -> int:\n",
    "        heapq.heappush(self.min_heap, val)\n",
    "        if len(self.min_heap) > self.k:\n",
    "            heapq.heappop(self.min_heap)\n",
    "        return self.min_heap[0]\n",
    "\n",
    "# 실행 예시\n",
    "kth = KthLargest(2, [6, 3, 9])\n",
    "print(kth.add(10))  # 출력: 9\n",
    "print(kth.add(2))   # 출력: 9\n",
    "print(kth.add(11))  # 출력: 10\n"
   ]
  }
 ],
 "metadata": {
  "kernelspec": {
   "display_name": "Python 3",
   "name": "python3"
  }
 },
 "nbformat": 4,
 "nbformat_minor": 5
}
