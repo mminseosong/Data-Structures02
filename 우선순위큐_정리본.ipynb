{
 "cells": [
  {
   "cell_type": "markdown",
   "id": "cd1949e1",
   "metadata": {},
   "source": [
    "# <교재 8장 우선 순위 큐 연습문제>"
   ]
  },
  {
   "cell_type": "markdown",
   "id": "e1364500",
   "metadata": {},
   "source": [
    "### 1번\n",
    "그럴 수 없다. 최대 힙은 모든 노드에 대해 ‘부모 노드의 값이 자식 노드의 값보다 크거나 같다.’가 성립해야 하므로 더 얕은 곳에 있는 원소가 더 깊은 곳에 있는 원소보다 항상 크거나 같아야 한다."
   ]
  },
  {
   "cell_type": "markdown",
   "id": "039a1a99",
   "metadata": {},
   "source": [
    "### 2번\n",
    "아니다. 최대 힙에서 마지막 원소 A[n-1]이 항상 가장 작은 값을 가지는 것은 아니다. 최대 힙에서는 전체 요소들이 정렬되어 있는 것이 아니기 때문에, 가장 작은 값이 꼭 마지막 원소에 위치할 필요는 없다."
   ]
  },
  {
   "cell_type": "markdown",
   "id": "1d026085",
   "metadata": {},
   "source": [
    "### 3번\n",
    "절반인 n/2 개의 노드는 스며내리기 없이 그냥 넘어간다."
   ]
  },
  {
   "cell_type": "markdown",
   "id": "78bc4d57",
   "metadata": {},
   "source": [
    "### 4번\n",
    "최악의 경우 : Θ(log n)\n",
    "\n",
    "최선의 경우 : Θ(1)"
   ]
  },
  {
   "cell_type": "markdown",
   "id": "a45d884e",
   "metadata": {},
   "source": [
    "### 5번\n",
    "매우 간단한 일이다. 맨 마지막 원소는 트리의 가장 마지막 위치에 있으므로 시간복잡도 Θ(1)에 삭제가 가능하다."
   ]
  },
  {
   "cell_type": "markdown",
   "id": "0044a07d",
   "metadata": {},
   "source": [
    "### 6번\n",
    "학생이 말한 방식으로도 힙은 만들어지지만, 학생이 말한 방식은 매 삽입마다 스며오르기를 하므로 전체 시간 복잡도가 Θ(n log n)이 되어 기존의 방식보다 비효율적이다."
   ]
  },
  {
   "cell_type": "markdown",
   "id": "90cddd3a",
   "metadata": {},
   "source": [
    "### 7번\n",
    "스며오르기를 사용하면 된다. 증가된 값이 있는 ‘노드 i’를 시작점으로 잡고 i의 부모 노드 인덱스를 계산한다. 부모보다 크면, 두 값을 교환한다. i를 부모 인덱스로 갱신하고 앞의 과정을 반복한다. 힙 속성이 만족될 때까지 이를 반복한다."
   ]
  },
  {
   "cell_type": "markdown",
   "id": "0421461f",
   "metadata": {},
   "source": [
    "# <LeetCode 703.Kth Largest Element in Stream 문제>"
   ]
  },
  {
   "cell_type": "code",
   "execution_count": null,
   "id": "e60d1aa3",
   "metadata": {},
   "outputs": [],
   "source": [
    "import heapq\n",
    "\n",
    "class KthLargest:\n",
    "\n",
    "    def __init__(self, k: int, nums: list[int]):\n",
    "        self.k = k\n",
    "        self.min_heap = []\n",
    "        for num in nums:\n",
    "            self.add(num)\n",
    "\n",
    "    def add(self, val: int) -> int:\n",
    "        heapq.heappush(self.min_heap, val)\n",
    "        if len(self.min_heap) > self.k:\n",
    "            heapq.heappop(self.min_heap)\n",
    "        return self.min_heap[0]\n"
   ]
  }
 ],
 "metadata": {
  "kernelspec": {
   "display_name": "Python 3",
   "name": "python3"
  }
 },
 "nbformat": 4,
 "nbformat_minor": 5
}
