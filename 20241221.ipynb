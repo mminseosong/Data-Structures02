{
 "cells": [
  {
   "cell_type": "markdown",
   "id": "ff5e6273",
   "metadata": {},
   "source": [
    "# <힙을 이용해 생일이 느린 순서로 10명의 친구를 출력하는 코드>"
   ]
  },
  {
   "cell_type": "code",
   "execution_count": null,
   "id": "ace55ac7",
   "metadata": {},
   "outputs": [],
   "source": [
    "import csv\n",
    "from datetime import datetime\n",
    "from heap import Heap  # 제공된 heap.py에 정의된 Heap 클래스 임포트\n",
    "\n",
    "def parse_birthday(date_str):\n",
    "    return datetime.strptime(date_str, \"%Y-%m-%d\")\n",
    "\n",
    "def main():\n",
    "    heap = Heap()\n",
    "    with open(\"birthday.csv\", \"r\", encoding=\"utf-8\") as csvfile:\n",
    "        reader = csv.DictReader(csvfile)\n",
    "        for row in reader:\n",
    "            name = row.get(\"name\") or row.get(\"Name\")\n",
    "            birthday_str = row.get(\"birthday\") or row.get(\"Birthday\")\n",
    "            if not name or not birthday_str:\n",
    "                continue\n",
    "            try:\n",
    "                birthday = parse_birthday(birthday_str)\n",
    "            except ValueError:\n",
    "                continue\n",
    "            heap.insert((birthday, name))\n",
    "\n",
    "    print(\"생일이 늦은 순서로 10명의 친구:\")\n",
    "    for i in range(10):\n",
    "        friend = heap.deleteMax()\n",
    "        if friend is None:\n",
    "            break\n",
    "        birthday, name = friend\n",
    "        print(f\"Name: {name}, Birthday: {birthday.strftime('%Y-%m-%d')}\")\n",
    "\n",
    "if __name__ == \"__main__\":\n",
    "    main()\n"
   ]
  },
  {
   "cell_type": "markdown",
   "id": "a980ed1f",
   "metadata": {},
   "source": [
    "# <리스트를 이용해 같은 조의 친구들만 출력하는 코드>"
   ]
  },
  {
   "cell_type": "code",
   "execution_count": null,
   "id": "d44f3ebd",
   "metadata": {},
   "outputs": [],
   "source": [
    "import csv\n",
    "from datetime import datetime\n",
    "from circularDoublyLinkedList import CircularDoublyLinkedList\n",
    "\n",
    "def parse_date(date_str):\n",
    "    return datetime.strptime(date_str, \"%Y-%m-%d\")\n",
    "\n",
    "def main():\n",
    "    group_names = [\"송민서\", \"안수민\", \"오예준\", \"진혜윤\", \n",
    "                   \"김채민\", \"김예빈\", \"신희영\", \"김선민\", \n",
    "                   \"김혜인\", \"김주하\", \"김민주\", \"최가온\", \n",
    "                   \"배시은\", \"강수아\", \"김서빈\"]\n",
    "    \n",
    "    clist = CircularDoublyLinkedList()\n",
    "    \n",
    "    with open(\"birthday.csv\", \"r\", encoding=\"utf-8\") as csvfile:\n",
    "        reader = csv.DictReader(csvfile)\n",
    "        for row in reader:\n",
    "            name = row.get(\"name\") or row.get(\"Name\")\n",
    "            birthday_str = row.get(\"birthday\") or row.get(\"Birthday\")\n",
    "            if not name or not birthday_str:\n",
    "                continue\n",
    "            try:\n",
    "                birthday = parse_date(birthday_str)\n",
    "            except ValueError:\n",
    "                continue\n",
    "            clist.insert((name, birthday))\n",
    "\n",
    "    if clist.head is None:\n",
    "        print(\"리스트에 데이터가 없습니다.\")\n",
    "    else:\n",
    "        print(\"같은 조 친구들의 이름과 생년월일:\")\n",
    "        current = clist.head\n",
    "        while True:\n",
    "            name, birthday = current.data\n",
    "            if name in group_names:\n",
    "                print(f\"Name: {name}, Birthday: {birthday.strftime('%Y-%m-%d')}\")\n",
    "            current = current.next\n",
    "            if current == clist.head:\n",
    "                break\n",
    "\n",
    "if __name__ == '__main__':\n",
    "    main()\n"
   ]
  },
  {
   "cell_type": "markdown",
   "id": "c73d1dbf",
   "metadata": {},
   "source": [
    "# <교재 8장 우선 순위 큐 연습문제>"
   ]
  },
  {
   "cell_type": "markdown",
   "id": "c3d2a22d",
   "metadata": {},
   "source": [
    "### 1번\n",
    "그럴 수 없다. 최대 힙은 모든 노드에 대해 ‘부모 노드의 값이 자식 노드의 값보다 크거나 같다.’가 성립해야 하므로 더 얕은 곳에 있는 원소가 더 깊은 곳에 있는 원소보다 항상 크거나 같아야 한다."
   ]
  },
  {
   "cell_type": "markdown",
   "id": "599e179b",
   "metadata": {},
   "source": [
    "### 2번\n",
    "아니다. 최대 힙에서 마지막 원소 A[n-1]이 항상 가장 작은 값을 가지는 것은 아니다. 최대 힙에서는 전체 요소들이 정렬되어 있는 것이 아니기 때문에, 가장 작은 값이 꼭 마지막 원소에 위치할 필요는 없다."
   ]
  },
  {
   "cell_type": "markdown",
   "id": "4e4bcd5e",
   "metadata": {},
   "source": [
    "### 3번\n",
    "절반인 n/2 개의 노드는 스며내리기 없이 그냥 넘어간다."
   ]
  },
  {
   "cell_type": "markdown",
   "id": "919d03d2",
   "metadata": {},
   "source": [
    "### 4번\n",
    "최악의 경우 : Θ(log n)\n",
    "\n",
    "최선의 경우 : Θ(1)"
   ]
  },
  {
   "cell_type": "markdown",
   "id": "4b84f50f",
   "metadata": {},
   "source": [
    "### 5번\n",
    "매우 간단한 일이다. 맨 마지막 원소는 트리의 가장 마지막 위치에 있으므로 시간복잡도 Θ(1)에 삭제가 가능하다."
   ]
  },
  {
   "cell_type": "markdown",
   "id": "b8a01fd8",
   "metadata": {},
   "source": [
    "### 6번\n",
    "학생이 말한 방식으로도 힙은 만들어지지만, 학생이 말한 방식은 매 삽입마다 스며오르기를 하므로 전체 시간 복잡도가 Θ(n log n)이 되어 기존의 방식보다 비효율적이다."
   ]
  },
  {
   "cell_type": "markdown",
   "id": "b19f203f",
   "metadata": {},
   "source": [
    "### 7번\n",
    "스며오르기를 사용하면 된다. 증가된 값이 있는 ‘노드i’를 시작점으로 잡고 i의 부모 노드 인덱스를 계산한다. 부모보다 크면, 두 값을 교환한다. i를 부모 인덱스로 갱신하고 앞의 과정을 반복한다. 힙 속성이 만족될까지 이를 반복한다."
   ]
  },
  {
   "cell_type": "markdown",
   "id": "a11626d4",
   "metadata": {},
   "source": [
    "# <LeetCode 703.Kth Largest Element in Stream 문제>"
   ]
  },
  {
   "cell_type": "code",
   "execution_count": null,
   "id": "dc6fc128",
   "metadata": {},
   "outputs": [],
   "source": [
    "import heapq\n",
    "\n",
    "class KthLargest:\n",
    "    def __init__(self, k: int, nums: list[int]):\n",
    "        self.k = k\n",
    "        self.min_heap = []\n",
    "        for num in nums:\n",
    "            self.add(num)\n",
    "\n",
    "    def add(self, val: int) -> int:\n",
    "        heapq.heappush(self.min_heap, val)\n",
    "        if len(self.min_heap) > self.k:\n",
    "            heapq.heappop(self.min_heap)\n",
    "        return self.min_heap[0]\n"
   ]
  },
  {
   "cell_type": "code",
   "execution_count": null,
   "id": "6e41a5d4",
   "metadata": {},
   "outputs": [],
   "source": [
    "# 실행 예시\n",
    "kth = KthLargest(2, [6, 3, 9])\n",
    "print(kth.add(10))  # 출력: 9\n",
    "print(kth.add(2))   # 출력: 9\n",
    "print(kth.add(11))  # 출력: 10\n"
   ]
  }
 ],
 "metadata": {
  "kernelspec": {
   "display_name": "Python 3",
   "name": "python3"
  }
 },
 "nbformat": 4,
 "nbformat_minor": 5
}
